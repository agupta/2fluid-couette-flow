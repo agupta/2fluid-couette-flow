{
 "cells": [
  {
   "cell_type": "code",
   "execution_count": 1,
   "metadata": {},
   "outputs": [],
   "source": [
    "%matplotlib widget\n",
    "import numpy as np\n",
    "import matplotlib.pyplot as plt\n",
    "from mpl_toolkits.mplot3d import Axes3D\n",
    "import matplotlib.ticker as mticker"
   ]
  },
  {
   "cell_type": "code",
   "execution_count": 2,
   "metadata": {},
   "outputs": [],
   "source": [
    "data5 = np.loadtxt(\"level5/flow.log\", dtype=[('beta', 'f8'), ('mu_r', 'f8'), ('v', 'f8')])\n",
    "data6 = np.loadtxt(\"level6/flow.log\", dtype=[('beta', 'f8'), ('mu_r', 'f8'), ('v', 'f8')])\n",
    "data7 = np.loadtxt(\"level7/cleaned.log\", dtype=[('beta', 'f8'), ('mu_r', 'f8'), ('v', 'f8')])"
   ]
  },
  {
   "cell_type": "markdown",
   "metadata": {},
   "source": [
    "The steady-state analytical solution is given by:\n",
    "\n",
    "$$ u_{x}(y) = \\begin{cases} \n",
    "                \\frac{y}{\\beta + \\mu_{r} - \\beta \\mu_{r}} & 0\\leq y \\leq \\beta \\\\\n",
    "                \\frac{\\mu_{r} y - \\beta \\mu_{r} + \\beta }{\\beta + \\mu_{r} - \\beta \\mu_{r}} & \\beta \\lt y \\leq 1\n",
    "              \\end{cases}. $$\n",
    "\n",
    "So the velocity at the interface is:\n",
    "\n",
    "\n",
    "$$ u_{x}(\\beta) = \\frac{\\beta}{\\beta + \\mu_{r} - \\beta \\mu_{r}} $$"
   ]
  },
  {
   "cell_type": "code",
   "execution_count": 3,
   "metadata": {},
   "outputs": [],
   "source": [
    "def v(beta, mu_r):\n",
    "    return beta/(beta+mu_r-beta*mu_r)"
   ]
  },
  {
   "cell_type": "code",
   "execution_count": 7,
   "metadata": {},
   "outputs": [
    {
     "data": {
      "application/vnd.jupyter.widget-view+json": {
       "model_id": "5c6d4a53d4ea4f849c97108fb4cb6fdc",
       "version_major": 2,
       "version_minor": 0
      },
      "text/plain": [
       "Canvas(toolbar=Toolbar(toolitems=[('Home', 'Reset original view', 'home', 'home'), ('Back', 'Back to previous …"
      ]
     },
     "metadata": {},
     "output_type": "display_data"
    }
   ],
   "source": [
    "fig = plt.figure()\n",
    "ax1 = fig.add_subplot(221, projection='3d')\n",
    "\n",
    "# hack to get a log plot\n",
    "def log_tick_formatter(val, pos=None):\n",
    "    return \"{:.3g}\".format(10**val)\n",
    "\n",
    "ax1.scatter(data5['beta'], np.log10(data5['mu_r']), data5['v'], c=1-data5['v'], cmap=\"summer\", marker=\".\")\n",
    "ax1.plot_trisurf(data5['beta'], np.log10(data5['mu_r']), v(data5['beta'], data5['mu_r']), cmap=\"autumn\")\n",
    "\n",
    "ax1.yaxis.set_major_formatter(mticker.FuncFormatter(log_tick_formatter)) # hack to get a log plot\n",
    "\n",
    "ax1.set_xlabel(r'$\\beta$')\n",
    "ax1.set_ylabel(r'$\\mu_{r}$')\n",
    "ax1.set_zlabel(r'$u_{x}$ at $\\beta$')\n",
    "ax1.set_title(r'$4^5 = 1024$ grid points')\n",
    "\n",
    "\n",
    "ax2 = fig.add_subplot(222, projection='3d')\n",
    "\n",
    "ax2.scatter(data6['beta'], np.log10(data6['mu_r']), data6['v'], c=1-data6['v'], cmap=\"summer\", marker=\".\")\n",
    "ax2.plot_trisurf(data6['beta'], np.log10(data6['mu_r']), v(data6['beta'], data6['mu_r']), cmap=\"autumn\")\n",
    "\n",
    "ax2.yaxis.set_major_formatter(mticker.FuncFormatter(log_tick_formatter)) # hack to get a log plot\n",
    "\n",
    "ax2.set_xlabel(r'$\\beta$')\n",
    "ax2.set_ylabel(r'$\\mu_{r}$')\n",
    "ax2.set_zlabel(r'$u_{x}$ at $\\beta$')\n",
    "ax2.set_title(r'$4^6 = 4096$ grid points')\n",
    "\n",
    "\n",
    "ax3 = fig.add_subplot(223, projection='3d')\n",
    "\n",
    "ax3.scatter(data7['beta'], np.log10(data7['mu_r']), data7['v'], c=1-data7['v'], cmap=\"summer\", marker=\".\")\n",
    "ax3.plot_trisurf(data7['beta'], np.log10(data7['mu_r']), v(data7['beta'], data7['mu_r']), cmap=\"autumn\")\n",
    "\n",
    "ax3.yaxis.set_major_formatter(mticker.FuncFormatter(log_tick_formatter)) # hack to get a log plot\n",
    "\n",
    "ax3.set_xlabel(r'$\\beta$')\n",
    "ax3.set_ylabel(r'$\\mu_{r}$')\n",
    "ax3.set_zlabel(r'$u_{x}$ at $\\beta$')\n",
    "ax3.set_zlim(0,1) # fix extreme values\n",
    "ax3.set_title(r'$4^7 = 16384$ grid points')\n",
    "\n",
    "\n",
    "ax4 = fig.add_subplot(224, projection='3d')\n",
    "\n",
    "sc1 = ax4.scatter(data5['beta'], np.log10(data5['mu_r']), np.absolute(data5['v']-v(data5['beta'], data5['mu_r'])), marker=\",\")\n",
    "sc2 = ax4.scatter(data6['beta'], np.log10(data6['mu_r']), np.absolute(data6['v']-v(data6['beta'], data6['mu_r'])), marker=\",\")\n",
    "sc3 = ax4.scatter(data7['beta'], np.log10(data7['mu_r']), np.absolute(data7['v']-v(data7['beta'], data7['mu_r'])), marker=\",\")\n",
    "\n",
    "ax4.yaxis.set_major_formatter(mticker.FuncFormatter(log_tick_formatter)) # hack to get a log plot\n",
    "\n",
    "ax4.set_xlabel(r'$\\beta$')\n",
    "ax4.set_ylabel(r'$\\mu_{r}$')\n",
    "ax4.set_zlabel(r'$|u_{x}-v_{x}|$ at $\\beta$')\n",
    "ax4.set_title(r'Absolute error of $u_{x}$ at $\\beta$')\n",
    "ax4.legend([sc1, sc2, sc3], ['MAX_LEVEL=5','MAX_LEVEL=6','MAX_LEVEL=7'])\n",
    "\n",
    "plt.show()"
   ]
  },
  {
   "cell_type": "code",
   "execution_count": 13,
   "metadata": {},
   "outputs": [
    {
     "data": {
      "application/vnd.jupyter.widget-view+json": {
       "model_id": "282a794b95344939961e7485f594d5ff",
       "version_major": 2,
       "version_minor": 0
      },
      "text/plain": [
       "Canvas(toolbar=Toolbar(toolitems=[('Home', 'Reset original view', 'home', 'home'), ('Back', 'Back to previous …"
      ]
     },
     "metadata": {},
     "output_type": "display_data"
    }
   ],
   "source": [
    "fig2 = plt.figure()\n",
    "h1 = plt.hist(np.absolute(data5['v']-v(data5['beta'], data5['mu_r'])), bins='fd', range=(0,0.02), alpha=0.7, label='MAX_LEVEL=5')\n",
    "h2 = plt.hist(np.absolute(data6['v']-v(data6['beta'], data6['mu_r'])), bins='fd', range=(0,0.02), alpha=0.7, label='MAX_LEVEL=6')\n",
    "h3 = plt.hist(np.absolute(data7['v']-v(data7['beta'], data7['mu_r'])), bins='fd', range=(0,0.02), alpha=0.7, label='MAX_LEVEL=7')\n",
    "plt.legend()\n",
    "plt.title(\"Histogram of absolute error\")\n",
    "plt.show()"
   ]
  },
  {
   "cell_type": "code",
   "execution_count": null,
   "metadata": {},
   "outputs": [],
   "source": []
  }
 ],
 "metadata": {
  "kernelspec": {
   "display_name": "Python 3.8.3 64-bit ('urss': conda)",
   "language": "python",
   "name": "python38364bitursscondaeb512ad855fc41cb95feb59065b09c5a"
  },
  "language_info": {
   "codemirror_mode": {
    "name": "ipython",
    "version": 3
   },
   "file_extension": ".py",
   "mimetype": "text/x-python",
   "name": "python",
   "nbconvert_exporter": "python",
   "pygments_lexer": "ipython3",
   "version": "3.8.3"
  }
 },
 "nbformat": 4,
 "nbformat_minor": 4
}

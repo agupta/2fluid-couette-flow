{
 "cells": [
  {
   "cell_type": "code",
   "execution_count": 1,
   "metadata": {},
   "outputs": [],
   "source": [
    "%matplotlib widget\n",
    "import numpy as np\n",
    "import matplotlib.pyplot as plt\n",
    "from mpl_toolkits.mplot3d import Axes3D\n",
    "import matplotlib.ticker as mticker"
   ]
  },
  {
   "cell_type": "code",
   "execution_count": 2,
   "metadata": {},
   "outputs": [],
   "source": [
    "data5 = np.loadtxt(\"level5/flow.log\", dtype=[('beta', 'f8'), ('mu_r', 'f8'), ('v', 'f8')])\n",
    "data6 = np.loadtxt(\"level6/flow.log\", dtype=[('beta', 'f8'), ('mu_r', 'f8'), ('v', 'f8')])"
   ]
  },
  {
   "cell_type": "markdown",
   "metadata": {},
   "source": [
    "The steady-state analytical solution is given by:\n",
    "\n",
    "$$ u_{x}(y) = \\begin{cases} \n",
    "                \\frac{y}{\\beta + \\mu_{r} - \\beta \\mu_{r}} & 0\\leq y \\leq \\beta \\\\\n",
    "                \\frac{\\mu_{r} y - \\beta \\mu_{r} + \\beta }{\\beta + \\mu_{r} - \\beta \\mu_{r}} & \\beta \\lt y \\leq 1\n",
    "              \\end{cases}. $$\n",
    "\n",
    "So the velocity at the interface is:\n",
    "\n",
    "\n",
    "$$ u_{x}(\\beta) = \\frac{\\beta}{\\beta + \\mu_{r} - \\beta \\mu_{r}} $$"
   ]
  },
  {
   "cell_type": "code",
   "execution_count": 3,
   "metadata": {},
   "outputs": [],
   "source": [
    "def v(beta, mu_r):\n",
    "    return beta/(beta+mu_r-beta*mu_r)"
   ]
  },
  {
   "cell_type": "code",
   "execution_count": 4,
   "metadata": {},
   "outputs": [
    {
     "data": {
      "application/vnd.jupyter.widget-view+json": {
       "model_id": "63b35727bc3d4db1a5a4437d075baeb2",
       "version_major": 2,
       "version_minor": 0
      },
      "text/plain": [
       "Canvas(toolbar=Toolbar(toolitems=[('Home', 'Reset original view', 'home', 'home'), ('Back', 'Back to previous …"
      ]
     },
     "metadata": {},
     "output_type": "display_data"
    }
   ],
   "source": [
    "fig = plt.figure()\n",
    "ax1 = fig.add_subplot(121, projection='3d')\n",
    "\n",
    "# hack to get a log plot\n",
    "\n",
    "ax1.scatter(data5['beta'], np.log10(data5['mu_r']), data5['v'], c=1-data5['v'], cmap=\"summer\", marker=\".\")\n",
    "ax1.plot_trisurf(data5['beta'], np.log10(data5['mu_r']), v(data5['beta'], data5['mu_r']), cmap=\"autumn\")\n",
    "\n",
    "def log_tick_formatter(val, pos=None):\n",
    "    return \"{:.3g}\".format(10**val)\n",
    "ax1.yaxis.set_major_formatter(mticker.FuncFormatter(log_tick_formatter)) # hack to get a log plot\n",
    "\n",
    "ax1.set_xlabel(r'$\\beta$')\n",
    "ax1.set_ylabel(r'$\\mu_{r}$')\n",
    "ax1.set_zlabel(r'$u_{x}$ at $\\beta$')\n",
    "ax1.set_title(r'$4^5 = 1024$ grid points')\n",
    "\n",
    "ax2 = fig.add_subplot(122, projection='3d')\n",
    "\n",
    "# hack to get a log plot\n",
    "\n",
    "ax2.scatter(data6['beta'], np.log10(data6['mu_r']), data6['v'], c=1-data6['v'], cmap=\"summer\", marker=\".\")\n",
    "ax2.plot_trisurf(data6['beta'], np.log10(data6['mu_r']), v(data6['beta'], data6['mu_r']), cmap=\"autumn\")\n",
    "\n",
    "def log_tick_formatter(val, pos=None):\n",
    "    return \"{:.3g}\".format(10**val)\n",
    "\n",
    "ax2.yaxis.set_major_formatter(mticker.FuncFormatter(log_tick_formatter)) # hack to get a log plot\n",
    "\n",
    "ax2.set_xlabel(r'$\\beta$')\n",
    "ax2.set_ylabel(r'$\\mu_{r}$')\n",
    "ax2.set_zlabel(r'$u_{x}$ at $\\beta$')\n",
    "ax2.set_title(r'$4^6 = 4096$ grid points')\n",
    "\n",
    "plt.show()"
   ]
  }
 ],
 "metadata": {
  "kernelspec": {
   "display_name": "Python 3.8.3 64-bit ('urss': conda)",
   "language": "python",
   "name": "python38364bitursscondaeb512ad855fc41cb95feb59065b09c5a"
  },
  "language_info": {
   "codemirror_mode": {
    "name": "ipython",
    "version": 3
   },
   "file_extension": ".py",
   "mimetype": "text/x-python",
   "name": "python",
   "nbconvert_exporter": "python",
   "pygments_lexer": "ipython3",
   "version": "3.8.3"
  }
 },
 "nbformat": 4,
 "nbformat_minor": 4
}

{
 "cells": [
  {
   "cell_type": "code",
   "execution_count": 2,
   "metadata": {},
   "outputs": [],
   "source": [
    "%matplotlib widget\n",
    "import numpy as np\n",
    "import matplotlib.pyplot as plt\n",
    "from mpl_toolkits.mplot3d import Axes3D\n",
    "import matplotlib.ticker as mticker"
   ]
  },
  {
   "cell_type": "code",
   "execution_count": 3,
   "metadata": {},
   "outputs": [],
   "source": [
    "data = np.loadtxt(\"level5/flow.log\", dtype=[('sep', 'f8'), ('mu_r', 'f8'), ('v', 'f8')])"
   ]
  },
  {
   "cell_type": "code",
   "execution_count": 4,
   "metadata": {},
   "outputs": [],
   "source": [
    "def v(sep, mu_r):\n",
    "    return sep/(sep+mu_r-sep*mu_r)"
   ]
  },
  {
   "cell_type": "code",
   "execution_count": null,
   "metadata": {},
   "outputs": [],
   "source": []
  },
  {
   "cell_type": "code",
   "execution_count": 8,
   "metadata": {},
   "outputs": [
    {
     "data": {
      "application/vnd.jupyter.widget-view+json": {
       "model_id": "0d6d2e54fd054d7a97ce9a0558d51490",
       "version_major": 2,
       "version_minor": 0
      },
      "text/plain": [
       "Canvas(toolbar=Toolbar(toolitems=[('Home', 'Reset original view', 'home', 'home'), ('Back', 'Back to previous …"
      ]
     },
     "metadata": {},
     "output_type": "display_data"
    }
   ],
   "source": [
    "fig = plt.figure()\n",
    "ax = fig.add_subplot(111, projection='3d')\n",
    "\n",
    "# hack to get a log plot\n",
    "\n",
    "ax.scatter(data['sep'], np.log10(data['mu_r']), data['v'], c=1-data['v'], cmap=\"summer\")\n",
    "ax.plot_trisurf(data['sep'], np.log10(data['mu_r']), v(data['sep'], data['mu_r']), cmap=\"autumn\")\n",
    "\n",
    "def log_tick_formatter(val, pos=None):\n",
    "    return \"{:.3g}\".format(10**val)\n",
    "\n",
    "ax.yaxis.set_major_formatter(mticker.FuncFormatter(log_tick_formatter)) # hack to get a log plot\n",
    "\n",
    "ax.set_xlabel(r'$\\beta$')\n",
    "ax.set_ylabel(r'$\\mu_{r}$')\n",
    "ax.set_zlabel(r'$u_{x}$ at $\\beta$')\n",
    "\n",
    "plt.show()"
   ]
  },
  {
   "cell_type": "code",
   "execution_count": null,
   "metadata": {},
   "outputs": [],
   "source": []
  },
  {
   "cell_type": "code",
   "execution_count": null,
   "metadata": {},
   "outputs": [],
   "source": []
  }
 ],
 "metadata": {
  "kernelspec": {
   "display_name": "Python 3",
   "language": "python",
   "name": "python3"
  },
  "language_info": {
   "codemirror_mode": {
    "name": "ipython",
    "version": 3
   },
   "file_extension": ".py",
   "mimetype": "text/x-python",
   "name": "python",
   "nbconvert_exporter": "python",
   "pygments_lexer": "ipython3",
   "version": "3.8.3"
  }
 },
 "nbformat": 4,
 "nbformat_minor": 4
}
